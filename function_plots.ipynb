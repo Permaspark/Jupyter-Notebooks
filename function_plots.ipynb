# Cell 1: sin(x)
import numpy as np
import matplotlib.pyplot as plt

x = np.linspace(-2*np.pi, 2*np.pi, 400)
plt.plot(x, np.sin(x))
plt.title("sin(x)")
plt.grid()
plt.show()

# Cell 2: cos(x)
x = np.linspace(-2*np.pi, 2*np.pi, 400)
plt.plot(x, np.cos(x))
plt.title("cos(x)")
plt.grid()
plt.show()

# Cell 3: tan(x)
x = np.linspace(-2*np.pi, 2*np.pi, 400)
plt.plot(x, np.tan(x))
plt.ylim(-10, 10)  # Limit range to avoid asymptotes
plt.title("tan(x)")
plt.grid()
plt.show()

# Cell 4: cot(x)
x = np.linspace(-2*np.pi, 2*np.pi, 400)
plt.plot(x, 1/np.tan(x))
plt.ylim(-10, 10)  # Limit range to avoid asymptotes
plt.title("cot(x)")
plt.grid()
plt.show()

# Cell 5: |x|
x = np.linspace(-10, 10, 400)
plt.plot(x, np.abs(x))
plt.title("|x|")
plt.grid()
plt.show()

# Cell 6: x
x = np.linspace(-10, 10, 400)
plt.plot(x, x)
plt.title("x")
plt.grid()
plt.show()

# Cell 7: x^2
x = np.linspace(-10, 10, 400)
plt.plot(x, x**2)
plt.title("x^2")
plt.grid()
plt.show()

# Cell 8: x^2 + y^2 (contour plot)
x = np.linspace(-10, 10, 400)
y = np.linspace(-10, 10, 400)
X, Y = np.meshgrid(x, y)
Z = X**2 + Y**2

plt.contourf(X, Y, Z, levels=50, cmap="viridis")
plt.colorbar()
plt.title("x^2 + y^2")
plt.show()

# Cell 9: sqrt(x)
x = np.linspace(0, 10, 400)
plt.plot(x, np.sqrt(x))
plt.title("sqrt(x)")
plt.grid()
plt.show()

# Cell 10: sqrt(-x)
x = np.linspace(-10, 0, 400)
plt.plot(x, np.sqrt(-x))
plt.title("sqrt(-x)")
plt.grid()
plt.show()

# Cell 11: 1/x
x = np.linspace(-10, 10, 400)
x = x[x != 0]  # Avoid division by zero
plt.plot(x, 1/x)
plt.ylim(-10, 10)
plt.title("1/x")
plt.grid()
plt.show()

# Cell 12: One weird function (e.g., sin(x) * e^(-0.1x))
x = np.linspace(-10, 10, 400)
plt.plot(x, np.sin(x) * np.exp(-0.1*x))
plt.title("Weird function: sin(x) * e^(-0.1x)")
plt.grid()
plt.show()

import numpy as np
import matplotlib.pyplot as plt

# Define x values for different functions
x = np.linspace(-2*np.pi, 2*np.pi, 400)
x_wide = np.linspace(-10, 10, 400)
x_pos = np.linspace(0, 10, 400)
x_neg = np.linspace(-10, 0, 400)
y = np.linspace(-10, 10, 400)
X, Y = np.meshgrid(x_wide, y)
Z = X**2 + Y**2  # For contour plot

# Create subplots
fig, axes = plt.subplots(3, 4, figsize=(15, 10))
fig.suptitle("Various Mathematical Functions", fontsize=16)

# Define each subplot
axes[0, 0].plot(x, np.sin(x))
axes[0, 0].set_title("sin(x)")

axes[0, 1].plot(x, np.cos(x))
axes[0, 1].set_title("cos(x)")

axes[0, 2].plot(x, np.tan(x))
axes[0, 2].set_ylim(-10, 10)
axes[0, 2].set_title("tan(x)")

axes[0, 3].plot(x, 1/np.tan(x))
axes[0, 3].set_ylim(-10, 10)
axes[0, 3].set_title("cot(x)")

axes[1, 0].plot(x_wide, np.abs(x_wide))
axes[1, 0].set_title("|x|")

axes[1, 1].plot(x_wide, x_wide)
axes[1, 1].set_title("x")

axes[1, 2].plot(x_wide, x_wide**2)
axes[1, 2].set_title("x^2")

contour = axes[1, 3].contourf(X, Y, Z, levels=50, cmap="viridis")
fig.colorbar(contour, ax=axes[1, 3])
axes[1, 3].set_title("x^2 + y^2")

axes[2, 0].plot(x_pos, np.sqrt(x_pos))
axes[2, 0].set_title("sqrt(x)")

axes[2, 1].plot(x_neg, np.sqrt(-x_neg))
axes[2, 1].set_title("sqrt(-x)")

axes[2, 2].plot(x_wide[x_wide != 0], 1/x_wide[x_wide != 0])
axes[2, 2].set_ylim(-10, 10)
axes[2, 2].set_title("1/x")

axes[2, 3].plot(x_wide, np.sin(x_wide) * np.exp(-0.1*x_wide))
axes[2, 3].set_title("Weird function: sin(x) * e^(-0.1x)")

# Adjust layout
for ax in axes.flat:
    ax.grid()

plt.tight_layout(rect=[0, 0, 1, 0.95])
plt.show()
